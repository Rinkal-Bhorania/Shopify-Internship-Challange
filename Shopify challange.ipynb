{
 "cells": [
  {
   "cell_type": "code",
   "execution_count": 2,
   "id": "0dfb2f78",
   "metadata": {},
   "outputs": [],
   "source": [
    "import pandas as pd\n",
    "import seaborn as sns\n",
    "import matplotlib.pyplot as plt"
   ]
  },
  {
   "cell_type": "code",
   "execution_count": 3,
   "id": "b7aafe5b",
   "metadata": {},
   "outputs": [],
   "source": [
    "data = pd.read_csv('2019 Winter Data Science Intern Challenge Data Set - Sheet1.csv')"
   ]
  },
  {
   "cell_type": "code",
   "execution_count": 4,
   "id": "d87580c9",
   "metadata": {},
   "outputs": [
    {
     "data": {
      "text/html": [
       "<div>\n",
       "<style scoped>\n",
       "    .dataframe tbody tr th:only-of-type {\n",
       "        vertical-align: middle;\n",
       "    }\n",
       "\n",
       "    .dataframe tbody tr th {\n",
       "        vertical-align: top;\n",
       "    }\n",
       "\n",
       "    .dataframe thead th {\n",
       "        text-align: right;\n",
       "    }\n",
       "</style>\n",
       "<table border=\"1\" class=\"dataframe\">\n",
       "  <thead>\n",
       "    <tr style=\"text-align: right;\">\n",
       "      <th></th>\n",
       "      <th>order_id</th>\n",
       "      <th>shop_id</th>\n",
       "      <th>user_id</th>\n",
       "      <th>order_amount</th>\n",
       "      <th>total_items</th>\n",
       "      <th>payment_method</th>\n",
       "      <th>created_at</th>\n",
       "    </tr>\n",
       "  </thead>\n",
       "  <tbody>\n",
       "    <tr>\n",
       "      <th>0</th>\n",
       "      <td>1</td>\n",
       "      <td>53</td>\n",
       "      <td>746</td>\n",
       "      <td>224</td>\n",
       "      <td>2</td>\n",
       "      <td>cash</td>\n",
       "      <td>2017-03-13 12:36:56</td>\n",
       "    </tr>\n",
       "    <tr>\n",
       "      <th>1</th>\n",
       "      <td>2</td>\n",
       "      <td>92</td>\n",
       "      <td>925</td>\n",
       "      <td>90</td>\n",
       "      <td>1</td>\n",
       "      <td>cash</td>\n",
       "      <td>2017-03-03 17:38:52</td>\n",
       "    </tr>\n",
       "    <tr>\n",
       "      <th>2</th>\n",
       "      <td>3</td>\n",
       "      <td>44</td>\n",
       "      <td>861</td>\n",
       "      <td>144</td>\n",
       "      <td>1</td>\n",
       "      <td>cash</td>\n",
       "      <td>2017-03-14 4:23:56</td>\n",
       "    </tr>\n",
       "    <tr>\n",
       "      <th>3</th>\n",
       "      <td>4</td>\n",
       "      <td>18</td>\n",
       "      <td>935</td>\n",
       "      <td>156</td>\n",
       "      <td>1</td>\n",
       "      <td>credit_card</td>\n",
       "      <td>2017-03-26 12:43:37</td>\n",
       "    </tr>\n",
       "    <tr>\n",
       "      <th>4</th>\n",
       "      <td>5</td>\n",
       "      <td>18</td>\n",
       "      <td>883</td>\n",
       "      <td>156</td>\n",
       "      <td>1</td>\n",
       "      <td>credit_card</td>\n",
       "      <td>2017-03-01 4:35:11</td>\n",
       "    </tr>\n",
       "  </tbody>\n",
       "</table>\n",
       "</div>"
      ],
      "text/plain": [
       "   order_id  shop_id  user_id  order_amount  total_items payment_method  \\\n",
       "0         1       53      746           224            2           cash   \n",
       "1         2       92      925            90            1           cash   \n",
       "2         3       44      861           144            1           cash   \n",
       "3         4       18      935           156            1    credit_card   \n",
       "4         5       18      883           156            1    credit_card   \n",
       "\n",
       "            created_at  \n",
       "0  2017-03-13 12:36:56  \n",
       "1  2017-03-03 17:38:52  \n",
       "2   2017-03-14 4:23:56  \n",
       "3  2017-03-26 12:43:37  \n",
       "4   2017-03-01 4:35:11  "
      ]
     },
     "execution_count": 4,
     "metadata": {},
     "output_type": "execute_result"
    }
   ],
   "source": [
    "data.head()"
   ]
  },
  {
   "cell_type": "code",
   "execution_count": 5,
   "id": "ed7bc2bf",
   "metadata": {},
   "outputs": [
    {
     "data": {
      "text/plain": [
       "order_id          False\n",
       "shop_id           False\n",
       "user_id           False\n",
       "order_amount      False\n",
       "total_items       False\n",
       "payment_method    False\n",
       "created_at        False\n",
       "dtype: bool"
      ]
     },
     "execution_count": 5,
     "metadata": {},
     "output_type": "execute_result"
    }
   ],
   "source": [
    "#check is there any null data or not\n",
    "data.isnull().any()"
   ]
  },
  {
   "cell_type": "code",
   "execution_count": 6,
   "id": "b6b8e954",
   "metadata": {},
   "outputs": [
    {
     "data": {
      "text/plain": [
       "False"
      ]
     },
     "execution_count": 6,
     "metadata": {},
     "output_type": "execute_result"
    }
   ],
   "source": [
    "#check is there any duplicate data or not\n",
    "data.duplicated().any() "
   ]
  },
  {
   "cell_type": "code",
   "execution_count": 7,
   "id": "0056881d",
   "metadata": {},
   "outputs": [
    {
     "data": {
      "text/plain": [
       "(5000, 7)"
      ]
     },
     "execution_count": 7,
     "metadata": {},
     "output_type": "execute_result"
    }
   ],
   "source": [
    "data.shape"
   ]
  },
  {
   "cell_type": "code",
   "execution_count": 8,
   "id": "d12c2a14",
   "metadata": {},
   "outputs": [
    {
     "data": {
      "text/plain": [
       "1862    2017-03-01 0:08:09\n",
       "1741    2017-03-01 0:10:19\n",
       "3228    2017-03-01 0:14:12\n",
       "1267    2017-03-01 0:19:31\n",
       "2689    2017-03-01 0:22:25\n",
       "               ...        \n",
       "2765    2017-03-30 9:22:41\n",
       "4890    2017-03-30 9:27:00\n",
       "244     2017-03-30 9:30:28\n",
       "211     2017-03-30 9:40:40\n",
       "145     2017-03-30 9:55:00\n",
       "Name: created_at, Length: 5000, dtype: object"
      ]
     },
     "execution_count": 8,
     "metadata": {},
     "output_type": "execute_result"
    }
   ],
   "source": [
    "#arrange the data in the asceding order of the creation date\n",
    "data.sort_values(by=['created_at'])['created_at']"
   ]
  },
  {
   "cell_type": "code",
   "execution_count": 9,
   "id": "9d30de4c",
   "metadata": {},
   "outputs": [
    {
     "data": {
      "text/html": [
       "<div>\n",
       "<style scoped>\n",
       "    .dataframe tbody tr th:only-of-type {\n",
       "        vertical-align: middle;\n",
       "    }\n",
       "\n",
       "    .dataframe tbody tr th {\n",
       "        vertical-align: top;\n",
       "    }\n",
       "\n",
       "    .dataframe thead th {\n",
       "        text-align: right;\n",
       "    }\n",
       "</style>\n",
       "<table border=\"1\" class=\"dataframe\">\n",
       "  <thead>\n",
       "    <tr style=\"text-align: right;\">\n",
       "      <th></th>\n",
       "      <th>order_id</th>\n",
       "      <th>shop_id</th>\n",
       "      <th>user_id</th>\n",
       "      <th>order_amount</th>\n",
       "      <th>total_items</th>\n",
       "    </tr>\n",
       "  </thead>\n",
       "  <tbody>\n",
       "    <tr>\n",
       "      <th>count</th>\n",
       "      <td>5000.000000</td>\n",
       "      <td>5000.000000</td>\n",
       "      <td>5000.000000</td>\n",
       "      <td>5000.000000</td>\n",
       "      <td>5000.00000</td>\n",
       "    </tr>\n",
       "    <tr>\n",
       "      <th>mean</th>\n",
       "      <td>2500.500000</td>\n",
       "      <td>50.078800</td>\n",
       "      <td>849.092400</td>\n",
       "      <td>3145.128000</td>\n",
       "      <td>8.78720</td>\n",
       "    </tr>\n",
       "    <tr>\n",
       "      <th>std</th>\n",
       "      <td>1443.520003</td>\n",
       "      <td>29.006118</td>\n",
       "      <td>87.798982</td>\n",
       "      <td>41282.539349</td>\n",
       "      <td>116.32032</td>\n",
       "    </tr>\n",
       "    <tr>\n",
       "      <th>min</th>\n",
       "      <td>1.000000</td>\n",
       "      <td>1.000000</td>\n",
       "      <td>607.000000</td>\n",
       "      <td>90.000000</td>\n",
       "      <td>1.00000</td>\n",
       "    </tr>\n",
       "    <tr>\n",
       "      <th>25%</th>\n",
       "      <td>1250.750000</td>\n",
       "      <td>24.000000</td>\n",
       "      <td>775.000000</td>\n",
       "      <td>163.000000</td>\n",
       "      <td>1.00000</td>\n",
       "    </tr>\n",
       "    <tr>\n",
       "      <th>50%</th>\n",
       "      <td>2500.500000</td>\n",
       "      <td>50.000000</td>\n",
       "      <td>849.000000</td>\n",
       "      <td>284.000000</td>\n",
       "      <td>2.00000</td>\n",
       "    </tr>\n",
       "    <tr>\n",
       "      <th>75%</th>\n",
       "      <td>3750.250000</td>\n",
       "      <td>75.000000</td>\n",
       "      <td>925.000000</td>\n",
       "      <td>390.000000</td>\n",
       "      <td>3.00000</td>\n",
       "    </tr>\n",
       "    <tr>\n",
       "      <th>max</th>\n",
       "      <td>5000.000000</td>\n",
       "      <td>100.000000</td>\n",
       "      <td>999.000000</td>\n",
       "      <td>704000.000000</td>\n",
       "      <td>2000.00000</td>\n",
       "    </tr>\n",
       "  </tbody>\n",
       "</table>\n",
       "</div>"
      ],
      "text/plain": [
       "          order_id      shop_id      user_id   order_amount  total_items\n",
       "count  5000.000000  5000.000000  5000.000000    5000.000000   5000.00000\n",
       "mean   2500.500000    50.078800   849.092400    3145.128000      8.78720\n",
       "std    1443.520003    29.006118    87.798982   41282.539349    116.32032\n",
       "min       1.000000     1.000000   607.000000      90.000000      1.00000\n",
       "25%    1250.750000    24.000000   775.000000     163.000000      1.00000\n",
       "50%    2500.500000    50.000000   849.000000     284.000000      2.00000\n",
       "75%    3750.250000    75.000000   925.000000     390.000000      3.00000\n",
       "max    5000.000000   100.000000   999.000000  704000.000000   2000.00000"
      ]
     },
     "execution_count": 9,
     "metadata": {},
     "output_type": "execute_result"
    }
   ],
   "source": [
    "data.describe()"
   ]
  },
  {
   "cell_type": "code",
   "execution_count": 10,
   "id": "eb3cdc73",
   "metadata": {},
   "outputs": [
    {
     "name": "stdout",
     "output_type": "stream",
     "text": [
      "15725640\n"
     ]
    }
   ],
   "source": [
    "#total sum of the order amount\n",
    "total_sum = data['order_amount'].sum()\n",
    "print(total_sum)"
   ]
  },
  {
   "cell_type": "code",
   "execution_count": 11,
   "id": "e89d63f0",
   "metadata": {},
   "outputs": [
    {
     "name": "stdout",
     "output_type": "stream",
     "text": [
      "5000\n"
     ]
    }
   ],
   "source": [
    "#count total items. \n",
    "count_items =data['total_items'].count()\n",
    "print(count_items)"
   ]
  },
  {
   "cell_type": "code",
   "execution_count": 12,
   "id": "1b7bf892",
   "metadata": {},
   "outputs": [
    {
     "name": "stdout",
     "output_type": "stream",
     "text": [
      "3145.128\n"
     ]
    }
   ],
   "source": [
    "#AOV that wrongly calculated in the challange. In the challange,\n",
    "#they have taken a count of orders and count will just simply count the total number of rows\n",
    "AOV = total_sum/count_items\n",
    "print(AOV)"
   ]
  },
  {
   "cell_type": "code",
   "execution_count": 13,
   "id": "9afd75ee",
   "metadata": {},
   "outputs": [
    {
     "name": "stdout",
     "output_type": "stream",
     "text": [
      "43936\n"
     ]
    }
   ],
   "source": [
    "#I have used sum of total_items that gives total number of items sold. \n",
    "total_items = data['total_items'].sum()\n",
    "print(total_items)"
   ]
  },
  {
   "cell_type": "code",
   "execution_count": 14,
   "id": "c87bebb2",
   "metadata": {},
   "outputs": [
    {
     "name": "stdout",
     "output_type": "stream",
     "text": [
      "357.92152221412965\n"
     ]
    }
   ],
   "source": [
    "#New average of AOV calculation \n",
    "AOVn = total_sum/total_items\n",
    "print(AOVn)"
   ]
  },
  {
   "cell_type": "code",
   "execution_count": 17,
   "id": "e5ba4534",
   "metadata": {},
   "outputs": [
    {
     "data": {
      "image/png": "[encoded data removed]",
      "text/plain": [
       "<Figure size 432x288 with 1 Axes>"
      ]
     },
     "metadata": {
      "needs_background": "light"
     },
     "output_type": "display_data"
    },
    {
     "data": {
      "text/plain": [
       "<Figure size 720x432 with 0 Axes>"
      ]
     },
     "metadata": {},
     "output_type": "display_data"
    }
   ],
   "source": [
    "sns.scatterplot(data = data, x='shop_id',y='order_amount')\n",
    "plt.xlim(10, 100)\n",
    "plt.xlabel(\"Shop_id\", size=16)\n",
    "plt.ylabel(\"Order_amount\", size=16)\n",
    "plt.title(\"price of shoes in shop\", size=24)\n",
    "plt.title('Revenue in March 2017')\n",
    "plt.figure(figsize=(10,6))\n",
    "plt.show()"
   ]
  },
  {
   "cell_type": "code",
   "execution_count": null,
   "id": "25c9abbf",
   "metadata": {},
   "outputs": [],
   "source": [
    "#If the AOV means total revenue divide by the total numbers of order then $357.9215 is new AOV. \n",
    "# In the above scattler plot shows that there are some anomiles present in the data. \n",
    "# So we calculate the AOv for each shop"
   ]
  },
  {
   "cell_type": "code",
   "execution_count": 19,
   "id": "813f7787",
   "metadata": {},
   "outputs": [
    {
     "name": "stdout",
     "output_type": "stream",
     "text": [
      "shop_id\n",
      "1      13588\n",
      "2       9588\n",
      "3      14652\n",
      "4      13184\n",
      "5      13064\n",
      "       ...  \n",
      "96     16830\n",
      "97     15552\n",
      "98     14231\n",
      "99     18330\n",
      "100     8547\n",
      "Name: order_amount, Length: 100, dtype: int64\n"
     ]
    }
   ],
   "source": [
    "#Total_revenue of each shop\n",
    "each_shop_total_revenue = data.groupby(['shop_id'])['order_amount'].agg('sum')\n",
    "print(each_shop_total_revenue)"
   ]
  },
  {
   "cell_type": "code",
   "execution_count": 20,
   "id": "bc5c0bda",
   "metadata": {},
   "outputs": [
    {
     "name": "stdout",
     "output_type": "stream",
     "text": [
      "shop_id\n",
      "1       86\n",
      "2      102\n",
      "3       99\n",
      "4      103\n",
      "5       92\n",
      "      ... \n",
      "96     110\n",
      "97      96\n",
      "98     107\n",
      "99      94\n",
      "100     77\n",
      "Name: total_items, Length: 100, dtype: int64\n"
     ]
    }
   ],
   "source": [
    "#Total orders of each shop\n",
    "each_shop_total_order = data.groupby(['shop_id'])['total_items'].agg('sum')\n",
    "print(each_shop_total_order)"
   ]
  },
  {
   "cell_type": "code",
   "execution_count": 21,
   "id": "e54da682",
   "metadata": {},
   "outputs": [
    {
     "name": "stdout",
     "output_type": "stream",
     "text": [
      "shop_id\n",
      "1      158.0\n",
      "2       94.0\n",
      "3      148.0\n",
      "4      128.0\n",
      "5      142.0\n",
      "       ...  \n",
      "96     153.0\n",
      "97     162.0\n",
      "98     133.0\n",
      "99     195.0\n",
      "100    111.0\n",
      "Length: 100, dtype: float64\n"
     ]
    }
   ],
   "source": [
    "#AOV of each shop\n",
    "each_shop_aov =  each_shop_total_revenue/each_shop_total_order\n",
    "print(each_shop_aov)\n",
    "each_shop_aov.name = 'aov'"
   ]
  },
  {
   "cell_type": "code",
   "execution_count": 22,
   "id": "9456e12a",
   "metadata": {},
   "outputs": [
    {
     "data": {
      "text/html": [
       "<div>\n",
       "<style scoped>\n",
       "    .dataframe tbody tr th:only-of-type {\n",
       "        vertical-align: middle;\n",
       "    }\n",
       "\n",
       "    .dataframe tbody tr th {\n",
       "        vertical-align: top;\n",
       "    }\n",
       "\n",
       "    .dataframe thead th {\n",
       "        text-align: right;\n",
       "    }\n",
       "</style>\n",
       "<table border=\"1\" class=\"dataframe\">\n",
       "  <thead>\n",
       "    <tr style=\"text-align: right;\">\n",
       "      <th></th>\n",
       "      <th>order_amount</th>\n",
       "      <th>total_items</th>\n",
       "      <th>aov</th>\n",
       "    </tr>\n",
       "    <tr>\n",
       "      <th>shop_id</th>\n",
       "      <th></th>\n",
       "      <th></th>\n",
       "      <th></th>\n",
       "    </tr>\n",
       "  </thead>\n",
       "  <tbody>\n",
       "    <tr>\n",
       "      <th>1</th>\n",
       "      <td>13588</td>\n",
       "      <td>86</td>\n",
       "      <td>158.0</td>\n",
       "    </tr>\n",
       "    <tr>\n",
       "      <th>2</th>\n",
       "      <td>9588</td>\n",
       "      <td>102</td>\n",
       "      <td>94.0</td>\n",
       "    </tr>\n",
       "    <tr>\n",
       "      <th>3</th>\n",
       "      <td>14652</td>\n",
       "      <td>99</td>\n",
       "      <td>148.0</td>\n",
       "    </tr>\n",
       "    <tr>\n",
       "      <th>4</th>\n",
       "      <td>13184</td>\n",
       "      <td>103</td>\n",
       "      <td>128.0</td>\n",
       "    </tr>\n",
       "    <tr>\n",
       "      <th>5</th>\n",
       "      <td>13064</td>\n",
       "      <td>92</td>\n",
       "      <td>142.0</td>\n",
       "    </tr>\n",
       "    <tr>\n",
       "      <th>...</th>\n",
       "      <td>...</td>\n",
       "      <td>...</td>\n",
       "      <td>...</td>\n",
       "    </tr>\n",
       "    <tr>\n",
       "      <th>96</th>\n",
       "      <td>16830</td>\n",
       "      <td>110</td>\n",
       "      <td>153.0</td>\n",
       "    </tr>\n",
       "    <tr>\n",
       "      <th>97</th>\n",
       "      <td>15552</td>\n",
       "      <td>96</td>\n",
       "      <td>162.0</td>\n",
       "    </tr>\n",
       "    <tr>\n",
       "      <th>98</th>\n",
       "      <td>14231</td>\n",
       "      <td>107</td>\n",
       "      <td>133.0</td>\n",
       "    </tr>\n",
       "    <tr>\n",
       "      <th>99</th>\n",
       "      <td>18330</td>\n",
       "      <td>94</td>\n",
       "      <td>195.0</td>\n",
       "    </tr>\n",
       "    <tr>\n",
       "      <th>100</th>\n",
       "      <td>8547</td>\n",
       "      <td>77</td>\n",
       "      <td>111.0</td>\n",
       "    </tr>\n",
       "  </tbody>\n",
       "</table>\n",
       "<p>100 rows × 3 columns</p>\n",
       "</div>"
      ],
      "text/plain": [
       "         order_amount  total_items    aov\n",
       "shop_id                                  \n",
       "1               13588           86  158.0\n",
       "2                9588          102   94.0\n",
       "3               14652           99  148.0\n",
       "4               13184          103  128.0\n",
       "5               13064           92  142.0\n",
       "...               ...          ...    ...\n",
       "96              16830          110  153.0\n",
       "97              15552           96  162.0\n",
       "98              14231          107  133.0\n",
       "99              18330           94  195.0\n",
       "100              8547           77  111.0\n",
       "\n",
       "[100 rows x 3 columns]"
      ]
     },
     "execution_count": 22,
     "metadata": {},
     "output_type": "execute_result"
    }
   ],
   "source": [
    "#New datatable\n",
    "each_shop_data = pd.concat([each_shop_total_revenue, each_shop_total_order,each_shop_aov], axis=1)\n",
    "each_shop_data"
   ]
  },
  {
   "cell_type": "code",
   "execution_count": 23,
   "id": "1bc4f309",
   "metadata": {},
   "outputs": [
    {
     "name": "stdout",
     "output_type": "stream",
     "text": [
      "Mean of  AOV: 407.99\n",
      "Median of AOV: 153.0\n",
      "Mode of AOV: 153.0\n"
     ]
    }
   ],
   "source": [
    "#mean, median and mode of AOV\n",
    "print(\"Mean of  AOV:\",each_shop_data['aov'].mean())\n",
    "print(\"Median of AOV:\",each_shop_data['aov'].median())\n",
    "print(\"Mode of AOV:\",each_shop_data['aov'].mode()[0])"
   ]
  },
  {
   "cell_type": "code",
   "execution_count": null,
   "id": "9ee08612",
   "metadata": {},
   "outputs": [],
   "source": [
    "#Here mean of the AOV is too high. Mode of the AOV is the 153 means majority of the shop are selling snakers at the same price.\n",
    "#Also, above scattler plot shows that shop_id =78 order_amount is too high.\n",
    "#we can remove this shop id and check again the AOV. "
   ]
  },
  {
   "cell_type": "code",
   "execution_count": 69,
   "id": "079cb0b3",
   "metadata": {},
   "outputs": [
    {
     "data": {
      "text/html": [
       "<div>\n",
       "<style scoped>\n",
       "    .dataframe tbody tr th:only-of-type {\n",
       "        vertical-align: middle;\n",
       "    }\n",
       "\n",
       "    .dataframe tbody tr th {\n",
       "        vertical-align: top;\n",
       "    }\n",
       "\n",
       "    .dataframe thead th {\n",
       "        text-align: right;\n",
       "    }\n",
       "</style>\n",
       "<table border=\"1\" class=\"dataframe\">\n",
       "  <thead>\n",
       "    <tr style=\"text-align: right;\">\n",
       "      <th></th>\n",
       "      <th>order_id</th>\n",
       "      <th>shop_id</th>\n",
       "      <th>user_id</th>\n",
       "      <th>order_amount</th>\n",
       "      <th>total_items</th>\n",
       "    </tr>\n",
       "  </thead>\n",
       "  <tbody>\n",
       "    <tr>\n",
       "      <th>count</th>\n",
       "      <td>46.000000</td>\n",
       "      <td>46.0</td>\n",
       "      <td>46.000000</td>\n",
       "      <td>46.000000</td>\n",
       "      <td>46.000000</td>\n",
       "    </tr>\n",
       "    <tr>\n",
       "      <th>mean</th>\n",
       "      <td>2663.021739</td>\n",
       "      <td>78.0</td>\n",
       "      <td>867.739130</td>\n",
       "      <td>49213.043478</td>\n",
       "      <td>1.913043</td>\n",
       "    </tr>\n",
       "    <tr>\n",
       "      <th>std</th>\n",
       "      <td>1338.520020</td>\n",
       "      <td>0.0</td>\n",
       "      <td>81.314871</td>\n",
       "      <td>26472.227449</td>\n",
       "      <td>1.029047</td>\n",
       "    </tr>\n",
       "    <tr>\n",
       "      <th>min</th>\n",
       "      <td>161.000000</td>\n",
       "      <td>78.0</td>\n",
       "      <td>707.000000</td>\n",
       "      <td>25725.000000</td>\n",
       "      <td>1.000000</td>\n",
       "    </tr>\n",
       "    <tr>\n",
       "      <th>25%</th>\n",
       "      <td>1428.250000</td>\n",
       "      <td>78.0</td>\n",
       "      <td>812.500000</td>\n",
       "      <td>25725.000000</td>\n",
       "      <td>1.000000</td>\n",
       "    </tr>\n",
       "    <tr>\n",
       "      <th>50%</th>\n",
       "      <td>2796.500000</td>\n",
       "      <td>78.0</td>\n",
       "      <td>866.500000</td>\n",
       "      <td>51450.000000</td>\n",
       "      <td>2.000000</td>\n",
       "    </tr>\n",
       "    <tr>\n",
       "      <th>75%</th>\n",
       "      <td>3720.250000</td>\n",
       "      <td>78.0</td>\n",
       "      <td>935.750000</td>\n",
       "      <td>51450.000000</td>\n",
       "      <td>2.000000</td>\n",
       "    </tr>\n",
       "    <tr>\n",
       "      <th>max</th>\n",
       "      <td>4919.000000</td>\n",
       "      <td>78.0</td>\n",
       "      <td>997.000000</td>\n",
       "      <td>154350.000000</td>\n",
       "      <td>6.000000</td>\n",
       "    </tr>\n",
       "  </tbody>\n",
       "</table>\n",
       "</div>"
      ],
      "text/plain": [
       "          order_id  shop_id     user_id   order_amount  total_items\n",
       "count    46.000000     46.0   46.000000      46.000000    46.000000\n",
       "mean   2663.021739     78.0  867.739130   49213.043478     1.913043\n",
       "std    1338.520020      0.0   81.314871   26472.227449     1.029047\n",
       "min     161.000000     78.0  707.000000   25725.000000     1.000000\n",
       "25%    1428.250000     78.0  812.500000   25725.000000     1.000000\n",
       "50%    2796.500000     78.0  866.500000   51450.000000     2.000000\n",
       "75%    3720.250000     78.0  935.750000   51450.000000     2.000000\n",
       "max    4919.000000     78.0  997.000000  154350.000000     6.000000"
      ]
     },
     "execution_count": 69,
     "metadata": {},
     "output_type": "execute_result"
    }
   ],
   "source": [
    "data_shopid_78 = data[data['shop_id'] == 78]\n",
    "data_shopid_78.describe()"
   ]
  },
  {
   "cell_type": "code",
   "execution_count": 87,
   "id": "c3f10e7d",
   "metadata": {},
   "outputs": [
    {
     "data": {
      "image/png": "[encoded data removed]",
      "text/plain": [
       "<Figure size 432x288 with 1 Axes>"
      ]
     },
     "metadata": {
      "needs_background": "light"
     },
     "output_type": "display_data"
    }
   ],
   "source": [
    "sns.scatterplot(data = data_shopid_78, x='order_amount',y='total_items')\n",
    "plt.show()"
   ]
  },
  {
   "cell_type": "code",
   "execution_count": 24,
   "id": "45a7c425",
   "metadata": {},
   "outputs": [],
   "source": [
    "new_data_of_each_shop = each_shop_data.drop([78])"
   ]
  },
  {
   "cell_type": "code",
   "execution_count": 25,
   "id": "c058e584",
   "metadata": {},
   "outputs": [
    {
     "name": "stdout",
     "output_type": "stream",
     "text": [
      "Mean AOV: 152.26262626262627\n",
      "Median AOV: 153.0\n",
      "Mode AOV: 153.0\n"
     ]
    }
   ],
   "source": [
    "print(\"Mean AOV:\",new_data_of_each_shop['aov'].mean())\n",
    "print(\"Median AOV:\",new_data_of_each_shop['aov'].median())\n",
    "print(\"Mode AOV:\",new_data_of_each_shop['aov'].mode()[0])"
   ]
  },
  {
   "cell_type": "code",
   "execution_count": null,
   "id": "b5e0adb6",
   "metadata": {},
   "outputs": [],
   "source": [
    "#So, above AOV of each shop is $153. "
   ]
  }
 ],
 "metadata": {
  "kernelspec": {
   "display_name": "Python 3 (ipykernel)",
   "language": "python",
   "name": "python3"
  },
  "language_info": {
   "codemirror_mode": {
    "name": "ipython",
    "version": 3
   },
   "file_extension": ".py",
   "mimetype": "text/x-python",
   "name": "python",
   "nbconvert_exporter": "python",
   "pygments_lexer": "ipython3",
   "version": "3.9.7"
  }
 },
 "nbformat": 4,
 "nbformat_minor": 5
}
